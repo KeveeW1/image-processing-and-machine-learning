{
 "cells": [
  {
   "cell_type": "code",
   "execution_count": 11,
   "id": "0735ac95",
   "metadata": {},
   "outputs": [],
   "source": [
    "import pandas as pd\n",
    "import numpy as np\n",
    "import matplotlib.pyplot as plt\n",
    "import seaborn as sns\n",
    "from os import listdir, getcwd, chdir\n",
    "from os.path import isfile, join\n",
    "from diff_predictor import data_process\n",
    "#!pip install plotly\n",
    "import plotly.express as px\n",
    "from sklearn.preprocessing import scale, StandardScaler\n",
    "from sklearn.decomposition import PCA"
   ]
  },
  {
   "cell_type": "code",
   "execution_count": 12,
   "id": "3bd43989",
   "metadata": {},
   "outputs": [
    {
     "name": "stdout",
     "output_type": "stream",
     "text": [
      "Current Notebook Dir: C:\\\n",
      "Using current directory for loading data: C:\\\n"
     ]
    }
   ],
   "source": [
    "workbookDir = getcwd()\n",
    "print('Current Notebook Dir: ' + workbookDir)\n",
    "chdir(workbookDir)\n",
    "chdir('..')\n",
    "print(f'Using current directory for loading data: {getcwd()}')\n",
    "workbookDir = getcwd()"
   ]
  },
  {
   "cell_type": "code",
   "execution_count": 13,
   "id": "1f41438a",
   "metadata": {},
   "outputs": [
    {
     "data": {
      "text/plain": [
       "75"
      ]
     },
     "execution_count": 13,
     "metadata": {},
     "output_type": "execute_result"
    }
   ],
   "source": [
    "data_path = 'Users/Keira/Downloads/textile/mpt_data/'\n",
    "filelist = [f for f in listdir(data_path) if isfile(join(data_path, f)) and 'feat' in f]\n",
    "len(filelist) #check to make sure there are the right number of files, in this case 15 - five per class"
   ]
  },
  {
   "cell_type": "code",
   "execution_count": null,
   "id": "33a09dfb",
   "metadata": {},
   "outputs": [],
   "source": []
  },
  {
   "cell_type": "code",
   "execution_count": 14,
   "id": "626c3250",
   "metadata": {},
   "outputs": [
    {
     "data": {
      "text/html": [
       "<div>\n",
       "<style scoped>\n",
       "    .dataframe tbody tr th:only-of-type {\n",
       "        vertical-align: middle;\n",
       "    }\n",
       "\n",
       "    .dataframe tbody tr th {\n",
       "        vertical-align: top;\n",
       "    }\n",
       "\n",
       "    .dataframe thead th {\n",
       "        text-align: right;\n",
       "    }\n",
       "</style>\n",
       "<table border=\"1\" class=\"dataframe\">\n",
       "  <thead>\n",
       "    <tr style=\"text-align: right;\">\n",
       "      <th></th>\n",
       "      <th>Track_ID</th>\n",
       "      <th>alpha</th>\n",
       "      <th>D_fit</th>\n",
       "      <th>kurtosis</th>\n",
       "      <th>asymmetry1</th>\n",
       "      <th>asymmetry2</th>\n",
       "      <th>asymmetry3</th>\n",
       "      <th>AR</th>\n",
       "      <th>elongation</th>\n",
       "      <th>boundedness</th>\n",
       "      <th>...</th>\n",
       "      <th>Std convex_hull_norm</th>\n",
       "      <th>Mean dist_tot</th>\n",
       "      <th>Std dist_tot</th>\n",
       "      <th>Mean dist_net</th>\n",
       "      <th>Std dist_net</th>\n",
       "      <th>Mean progression</th>\n",
       "      <th>Std progression</th>\n",
       "      <th>age</th>\n",
       "      <th>Filename</th>\n",
       "      <th>Video Number</th>\n",
       "    </tr>\n",
       "  </thead>\n",
       "  <tbody>\n",
       "    <tr>\n",
       "      <th>0</th>\n",
       "      <td>0.0</td>\n",
       "      <td>0.145892</td>\n",
       "      <td>115.910645</td>\n",
       "      <td>3.051675</td>\n",
       "      <td>0.744942</td>\n",
       "      <td>0.271071</td>\n",
       "      <td>0.179650</td>\n",
       "      <td>1.287207</td>\n",
       "      <td>0.223124</td>\n",
       "      <td>0.157897</td>\n",
       "      <td>...</td>\n",
       "      <td>0.0</td>\n",
       "      <td>25621.753218</td>\n",
       "      <td>10363.797033</td>\n",
       "      <td>1800.021676</td>\n",
       "      <td>64.057425</td>\n",
       "      <td>0.080031</td>\n",
       "      <td>0.025167</td>\n",
       "      <td>P14</td>\n",
       "      <td>features_P14_40nm_s1_v1.csv</td>\n",
       "      <td>0</td>\n",
       "    </tr>\n",
       "    <tr>\n",
       "      <th>1</th>\n",
       "      <td>1.0</td>\n",
       "      <td>2.193719</td>\n",
       "      <td>1.611728</td>\n",
       "      <td>3.180184</td>\n",
       "      <td>0.851672</td>\n",
       "      <td>0.200292</td>\n",
       "      <td>0.250967</td>\n",
       "      <td>2.605750</td>\n",
       "      <td>0.616233</td>\n",
       "      <td>0.030720</td>\n",
       "      <td>...</td>\n",
       "      <td>0.0</td>\n",
       "      <td>26835.693671</td>\n",
       "      <td>8364.829289</td>\n",
       "      <td>2312.473896</td>\n",
       "      <td>61.022111</td>\n",
       "      <td>0.093691</td>\n",
       "      <td>0.024171</td>\n",
       "      <td>P14</td>\n",
       "      <td>features_P14_40nm_s1_v1.csv</td>\n",
       "      <td>0</td>\n",
       "    </tr>\n",
       "    <tr>\n",
       "      <th>2</th>\n",
       "      <td>2.0</td>\n",
       "      <td>1.649381</td>\n",
       "      <td>12.301497</td>\n",
       "      <td>1.654691</td>\n",
       "      <td>0.989301</td>\n",
       "      <td>0.051857</td>\n",
       "      <td>0.521313</td>\n",
       "      <td>3.210672</td>\n",
       "      <td>0.688539</td>\n",
       "      <td>0.041548</td>\n",
       "      <td>...</td>\n",
       "      <td>0.0</td>\n",
       "      <td>24169.173272</td>\n",
       "      <td>7667.671923</td>\n",
       "      <td>1991.842371</td>\n",
       "      <td>76.548932</td>\n",
       "      <td>0.090450</td>\n",
       "      <td>0.025825</td>\n",
       "      <td>P14</td>\n",
       "      <td>features_P14_40nm_s1_v1.csv</td>\n",
       "      <td>0</td>\n",
       "    </tr>\n",
       "    <tr>\n",
       "      <th>3</th>\n",
       "      <td>3.0</td>\n",
       "      <td>0.756172</td>\n",
       "      <td>50.106737</td>\n",
       "      <td>2.428506</td>\n",
       "      <td>0.990430</td>\n",
       "      <td>0.049030</td>\n",
       "      <td>0.529145</td>\n",
       "      <td>3.600695</td>\n",
       "      <td>0.722276</td>\n",
       "      <td>0.128690</td>\n",
       "      <td>...</td>\n",
       "      <td>0.0</td>\n",
       "      <td>24169.173272</td>\n",
       "      <td>7667.671923</td>\n",
       "      <td>1991.842371</td>\n",
       "      <td>76.548932</td>\n",
       "      <td>0.090450</td>\n",
       "      <td>0.025825</td>\n",
       "      <td>P14</td>\n",
       "      <td>features_P14_40nm_s1_v1.csv</td>\n",
       "      <td>0</td>\n",
       "    </tr>\n",
       "    <tr>\n",
       "      <th>4</th>\n",
       "      <td>4.0</td>\n",
       "      <td>2.153309</td>\n",
       "      <td>3.674387</td>\n",
       "      <td>2.894523</td>\n",
       "      <td>0.996028</td>\n",
       "      <td>0.031544</td>\n",
       "      <td>0.581089</td>\n",
       "      <td>4.677014</td>\n",
       "      <td>0.786188</td>\n",
       "      <td>0.154286</td>\n",
       "      <td>...</td>\n",
       "      <td>0.0</td>\n",
       "      <td>25686.973833</td>\n",
       "      <td>12240.490368</td>\n",
       "      <td>2002.856919</td>\n",
       "      <td>108.115520</td>\n",
       "      <td>0.091822</td>\n",
       "      <td>0.030371</td>\n",
       "      <td>P14</td>\n",
       "      <td>features_P14_40nm_s1_v1.csv</td>\n",
       "      <td>0</td>\n",
       "    </tr>\n",
       "  </tbody>\n",
       "</table>\n",
       "<p>5 rows × 94 columns</p>\n",
       "</div>"
      ],
      "text/plain": [
       "   Track_ID     alpha       D_fit  kurtosis  asymmetry1  asymmetry2  \\\n",
       "0       0.0  0.145892  115.910645  3.051675    0.744942    0.271071   \n",
       "1       1.0  2.193719    1.611728  3.180184    0.851672    0.200292   \n",
       "2       2.0  1.649381   12.301497  1.654691    0.989301    0.051857   \n",
       "3       3.0  0.756172   50.106737  2.428506    0.990430    0.049030   \n",
       "4       4.0  2.153309    3.674387  2.894523    0.996028    0.031544   \n",
       "\n",
       "   asymmetry3        AR  elongation  boundedness  ...  Std convex_hull_norm  \\\n",
       "0    0.179650  1.287207    0.223124     0.157897  ...                   0.0   \n",
       "1    0.250967  2.605750    0.616233     0.030720  ...                   0.0   \n",
       "2    0.521313  3.210672    0.688539     0.041548  ...                   0.0   \n",
       "3    0.529145  3.600695    0.722276     0.128690  ...                   0.0   \n",
       "4    0.581089  4.677014    0.786188     0.154286  ...                   0.0   \n",
       "\n",
       "   Mean dist_tot  Std dist_tot  Mean dist_net  Std dist_net  Mean progression  \\\n",
       "0   25621.753218  10363.797033    1800.021676     64.057425          0.080031   \n",
       "1   26835.693671   8364.829289    2312.473896     61.022111          0.093691   \n",
       "2   24169.173272   7667.671923    1991.842371     76.548932          0.090450   \n",
       "3   24169.173272   7667.671923    1991.842371     76.548932          0.090450   \n",
       "4   25686.973833  12240.490368    2002.856919    108.115520          0.091822   \n",
       "\n",
       "   Std progression  age                     Filename  Video Number  \n",
       "0         0.025167  P14  features_P14_40nm_s1_v1.csv             0  \n",
       "1         0.024171  P14  features_P14_40nm_s1_v1.csv             0  \n",
       "2         0.025825  P14  features_P14_40nm_s1_v1.csv             0  \n",
       "3         0.025825  P14  features_P14_40nm_s1_v1.csv             0  \n",
       "4         0.030371  P14  features_P14_40nm_s1_v1.csv             0  \n",
       "\n",
       "[5 rows x 94 columns]"
      ]
     },
     "execution_count": 14,
     "metadata": {},
     "output_type": "execute_result"
    }
   ],
   "source": [
    "fstats_tot.head()"
   ]
  },
  {
   "cell_type": "code",
   "execution_count": 15,
   "id": "662887d1",
   "metadata": {},
   "outputs": [],
   "source": [
    "feature_list = [\n",
    "    'Mean alpha', #fitted anomalos diffusion alpha exponent\n",
    "    'Mean D_fit', #fitted anomalous diffusion coefficient\n",
    "    'Mean kurtosis', #kurtosis of track - can show non-linearity in trajectory such as compartmentalization\n",
    "    'Mean asymmetry1', #asymmetry of trajectory (0 for circular symmetric, 1 for linear)\n",
    "    'Mean asymmetry2', \n",
    "    'Mean asymmetry3', \n",
    "    'Mean elongation', #est. of amount of extension of trajectory from centroid\n",
    "    'Mean boundedness', #how much a particle with Deff is restructed by a circular confinement\n",
    "    'Mean fractal_dim', #measure of how complicated a self similar figure is\n",
    "    'Mean efficiency', #ratio of squared net displacement to the sum of squared step lengths\n",
    "    'Mean straightness', #ratio of net displacement to the sum of squared step lengths\n",
    "    'Mean MSD_ratio', #MSD ratio of the track\n",
    "    'Mean Deff1', #effective diffusion coefficient at 0.33 s\n",
    "    'Mean Deff2' #effective diffusion coefficient at 3.3 s\n",
    "]"
   ]
  },
  {
   "cell_type": "code",
   "execution_count": 16,
   "id": "0cebe9a4",
   "metadata": {},
   "outputs": [
    {
     "data": {
      "text/plain": [
       "(38304, 15)"
      ]
     },
     "execution_count": 16,
     "metadata": {},
     "output_type": "execute_result"
    }
   ],
   "source": [
    "ecm = fstats_tot[feature_list + ['age']]\n",
    "ecm = ecm[~ecm[list(set(feature_list) - set(['Mean Deff2']))].isin([np.nan, np.inf, -np.inf]).any(1)]\n",
    "ecm = ecm.fillna(0)\n",
    "ecm.shape"
   ]
  },
  {
   "cell_type": "code",
   "execution_count": 17,
   "id": "428ef5f6",
   "metadata": {},
   "outputs": [
    {
     "data": {
      "text/html": [
       "<div>\n",
       "<style scoped>\n",
       "    .dataframe tbody tr th:only-of-type {\n",
       "        vertical-align: middle;\n",
       "    }\n",
       "\n",
       "    .dataframe tbody tr th {\n",
       "        vertical-align: top;\n",
       "    }\n",
       "\n",
       "    .dataframe thead th {\n",
       "        text-align: right;\n",
       "    }\n",
       "</style>\n",
       "<table border=\"1\" class=\"dataframe\">\n",
       "  <thead>\n",
       "    <tr style=\"text-align: right;\">\n",
       "      <th></th>\n",
       "      <th>Mean alpha</th>\n",
       "      <th>Mean D_fit</th>\n",
       "      <th>Mean kurtosis</th>\n",
       "      <th>Mean asymmetry1</th>\n",
       "      <th>Mean asymmetry2</th>\n",
       "      <th>Mean asymmetry3</th>\n",
       "      <th>Mean elongation</th>\n",
       "      <th>Mean boundedness</th>\n",
       "      <th>Mean fractal_dim</th>\n",
       "      <th>Mean efficiency</th>\n",
       "      <th>Mean straightness</th>\n",
       "      <th>Mean MSD_ratio</th>\n",
       "      <th>Mean Deff1</th>\n",
       "      <th>Mean Deff2</th>\n",
       "      <th>age</th>\n",
       "    </tr>\n",
       "  </thead>\n",
       "  <tbody>\n",
       "    <tr>\n",
       "      <th>0</th>\n",
       "      <td>0.794160</td>\n",
       "      <td>44.383932</td>\n",
       "      <td>2.669484</td>\n",
       "      <td>0.621876</td>\n",
       "      <td>0.340635</td>\n",
       "      <td>0.237973</td>\n",
       "      <td>0.426257</td>\n",
       "      <td>0.135306</td>\n",
       "      <td>1.591005</td>\n",
       "      <td>1.124217</td>\n",
       "      <td>0.291329</td>\n",
       "      <td>0.291549</td>\n",
       "      <td>14.397101</td>\n",
       "      <td>0.0</td>\n",
       "      <td>P14</td>\n",
       "    </tr>\n",
       "    <tr>\n",
       "      <th>1</th>\n",
       "      <td>1.807185</td>\n",
       "      <td>8.614584</td>\n",
       "      <td>2.657682</td>\n",
       "      <td>0.927484</td>\n",
       "      <td>0.126195</td>\n",
       "      <td>0.374555</td>\n",
       "      <td>0.685010</td>\n",
       "      <td>0.063663</td>\n",
       "      <td>1.209811</td>\n",
       "      <td>2.716870</td>\n",
       "      <td>0.548717</td>\n",
       "      <td>-0.113589</td>\n",
       "      <td>25.022851</td>\n",
       "      <td>0.0</td>\n",
       "      <td>P14</td>\n",
       "    </tr>\n",
       "    <tr>\n",
       "      <th>2</th>\n",
       "      <td>1.334796</td>\n",
       "      <td>24.895063</td>\n",
       "      <td>2.092145</td>\n",
       "      <td>0.871251</td>\n",
       "      <td>0.154402</td>\n",
       "      <td>0.370623</td>\n",
       "      <td>0.563162</td>\n",
       "      <td>0.094886</td>\n",
       "      <td>1.351141</td>\n",
       "      <td>1.997596</td>\n",
       "      <td>0.488372</td>\n",
       "      <td>-0.045811</td>\n",
       "      <td>31.317633</td>\n",
       "      <td>0.0</td>\n",
       "      <td>P14</td>\n",
       "    </tr>\n",
       "    <tr>\n",
       "      <th>3</th>\n",
       "      <td>1.334796</td>\n",
       "      <td>24.895063</td>\n",
       "      <td>2.092145</td>\n",
       "      <td>0.871251</td>\n",
       "      <td>0.154402</td>\n",
       "      <td>0.370623</td>\n",
       "      <td>0.563162</td>\n",
       "      <td>0.094886</td>\n",
       "      <td>1.351141</td>\n",
       "      <td>1.997596</td>\n",
       "      <td>0.488372</td>\n",
       "      <td>-0.045811</td>\n",
       "      <td>31.317633</td>\n",
       "      <td>0.0</td>\n",
       "      <td>P14</td>\n",
       "    </tr>\n",
       "    <tr>\n",
       "      <th>4</th>\n",
       "      <td>1.012264</td>\n",
       "      <td>44.373239</td>\n",
       "      <td>2.155771</td>\n",
       "      <td>0.612763</td>\n",
       "      <td>0.337064</td>\n",
       "      <td>0.238169</td>\n",
       "      <td>0.425369</td>\n",
       "      <td>0.117107</td>\n",
       "      <td>1.486425</td>\n",
       "      <td>0.993658</td>\n",
       "      <td>0.358448</td>\n",
       "      <td>0.039424</td>\n",
       "      <td>35.596055</td>\n",
       "      <td>0.0</td>\n",
       "      <td>P14</td>\n",
       "    </tr>\n",
       "  </tbody>\n",
       "</table>\n",
       "</div>"
      ],
      "text/plain": [
       "   Mean alpha  Mean D_fit  Mean kurtosis  Mean asymmetry1  Mean asymmetry2  \\\n",
       "0    0.794160   44.383932       2.669484         0.621876         0.340635   \n",
       "1    1.807185    8.614584       2.657682         0.927484         0.126195   \n",
       "2    1.334796   24.895063       2.092145         0.871251         0.154402   \n",
       "3    1.334796   24.895063       2.092145         0.871251         0.154402   \n",
       "4    1.012264   44.373239       2.155771         0.612763         0.337064   \n",
       "\n",
       "   Mean asymmetry3  Mean elongation  Mean boundedness  Mean fractal_dim  \\\n",
       "0         0.237973         0.426257          0.135306          1.591005   \n",
       "1         0.374555         0.685010          0.063663          1.209811   \n",
       "2         0.370623         0.563162          0.094886          1.351141   \n",
       "3         0.370623         0.563162          0.094886          1.351141   \n",
       "4         0.238169         0.425369          0.117107          1.486425   \n",
       "\n",
       "   Mean efficiency  Mean straightness  Mean MSD_ratio  Mean Deff1  Mean Deff2  \\\n",
       "0         1.124217           0.291329        0.291549   14.397101         0.0   \n",
       "1         2.716870           0.548717       -0.113589   25.022851         0.0   \n",
       "2         1.997596           0.488372       -0.045811   31.317633         0.0   \n",
       "3         1.997596           0.488372       -0.045811   31.317633         0.0   \n",
       "4         0.993658           0.358448        0.039424   35.596055         0.0   \n",
       "\n",
       "   age  \n",
       "0  P14  \n",
       "1  P14  \n",
       "2  P14  \n",
       "3  P14  \n",
       "4  P14  "
      ]
     },
     "execution_count": 17,
     "metadata": {},
     "output_type": "execute_result"
    }
   ],
   "source": [
    "ecm.head()"
   ]
  },
  {
   "cell_type": "code",
   "execution_count": 18,
   "id": "c5bd54c4",
   "metadata": {},
   "outputs": [
    {
     "data": {
      "text/plain": [
       "count    38304.000000\n",
       "mean         8.464855\n",
       "std          9.781926\n",
       "min          0.002878\n",
       "25%          2.978893\n",
       "50%          5.011166\n",
       "75%          9.739172\n",
       "max        156.290092\n",
       "Name: Mean Deff1, dtype: float64"
      ]
     },
     "execution_count": 18,
     "metadata": {},
     "output_type": "execute_result"
    }
   ],
   "source": [
    "ecm['Mean Deff1'].describe()"
   ]
  },
  {
   "cell_type": "code",
   "execution_count": 19,
   "id": "d275e045",
   "metadata": {},
   "outputs": [],
   "source": [
    "#histogram options:\n",
    "#histtype = {'bar', 'barstacked', 'step', 'stepfilled'}"
   ]
  },
  {
   "cell_type": "code",
   "execution_count": 20,
   "id": "6d9691fa",
   "metadata": {},
   "outputs": [
    {
     "data": {
      "text/plain": [
       "(array([1.349e+03, 1.900e+03, 3.232e+03, 3.984e+03, 3.780e+03, 3.478e+03,\n",
       "        3.557e+03, 2.238e+03, 1.937e+03, 9.710e+02, 1.071e+03, 8.320e+02,\n",
       "        8.520e+02, 6.270e+02, 4.810e+02, 7.150e+02, 4.710e+02, 4.330e+02,\n",
       "        4.400e+02, 3.530e+02, 2.910e+02, 3.320e+02, 4.120e+02, 3.310e+02,\n",
       "        3.050e+02, 2.860e+02, 2.560e+02, 1.660e+02, 2.600e+02, 2.590e+02,\n",
       "        1.300e+02, 2.630e+02, 1.480e+02, 1.270e+02, 1.650e+02, 1.570e+02,\n",
       "        1.160e+02, 1.010e+02, 6.700e+01, 1.230e+02, 7.400e+01, 4.700e+01,\n",
       "        6.500e+01, 1.210e+02, 4.700e+01, 4.500e+01, 1.020e+02, 6.500e+01,\n",
       "        8.800e+01, 3.600e+01, 6.300e+01, 6.300e+01, 2.300e+01, 2.300e+01,\n",
       "        3.300e+01, 6.100e+01, 3.500e+01, 4.000e+01, 1.700e+01, 1.300e+01,\n",
       "        1.900e+01, 1.500e+01, 1.900e+01, 2.200e+01, 1.900e+01, 9.000e+00,\n",
       "        1.800e+01, 4.000e+00, 1.400e+01, 3.000e+00, 2.000e+01, 1.400e+01,\n",
       "        2.000e+00, 3.000e+00, 3.100e+01, 1.600e+01, 1.200e+01, 2.000e+00,\n",
       "        7.000e+00, 8.000e+00, 8.000e+00, 8.000e+00, 5.000e+00, 7.000e+00,\n",
       "        1.200e+01, 5.000e+00, 2.000e+00, 2.000e+00, 2.000e+00, 0.000e+00,\n",
       "        1.000e+00, 1.000e+00, 3.000e+00, 3.000e+00, 1.000e+00, 1.000e+00,\n",
       "        1.000e+00, 3.000e+00, 0.000e+00, 0.000e+00, 2.000e+00, 7.000e+00,\n",
       "        0.000e+00, 1.000e+00, 0.000e+00, 3.000e+00, 0.000e+00, 0.000e+00,\n",
       "        0.000e+00, 0.000e+00, 0.000e+00, 1.000e+00, 0.000e+00, 0.000e+00,\n",
       "        0.000e+00, 0.000e+00, 2.000e+00, 0.000e+00, 0.000e+00, 0.000e+00,\n",
       "        5.000e+00, 5.000e+00, 0.000e+00, 1.000e+00, 0.000e+00, 0.000e+00,\n",
       "        0.000e+00, 0.000e+00, 1.000e+00, 0.000e+00, 0.000e+00, 0.000e+00,\n",
       "        0.000e+00, 5.000e+00, 0.000e+00, 2.000e+00, 4.000e+00, 0.000e+00,\n",
       "        0.000e+00, 0.000e+00, 0.000e+00, 0.000e+00, 0.000e+00, 0.000e+00,\n",
       "        0.000e+00, 0.000e+00, 0.000e+00, 0.000e+00, 0.000e+00, 0.000e+00,\n",
       "        0.000e+00, 0.000e+00, 0.000e+00, 0.000e+00, 0.000e+00, 1.000e+00,\n",
       "        0.000e+00, 0.000e+00, 0.000e+00, 0.000e+00, 0.000e+00, 0.000e+00,\n",
       "        0.000e+00, 0.000e+00, 0.000e+00, 0.000e+00, 4.000e+00, 0.000e+00,\n",
       "        0.000e+00, 0.000e+00, 0.000e+00, 0.000e+00, 0.000e+00, 0.000e+00,\n",
       "        0.000e+00, 0.000e+00, 0.000e+00, 0.000e+00, 0.000e+00, 0.000e+00,\n",
       "        0.000e+00, 0.000e+00, 0.000e+00, 0.000e+00, 0.000e+00, 0.000e+00,\n",
       "        0.000e+00, 0.000e+00, 0.000e+00, 0.000e+00, 0.000e+00, 0.000e+00,\n",
       "        0.000e+00, 0.000e+00, 0.000e+00, 0.000e+00, 0.000e+00, 2.000e+00,\n",
       "        0.000e+00, 1.000e+00]),\n",
       " array([2.87827356e-03, 7.84314343e-01, 1.56575041e+00, 2.34718648e+00,\n",
       "        3.12862255e+00, 3.91005862e+00, 4.69149469e+00, 5.47293076e+00,\n",
       "        6.25436683e+00, 7.03580289e+00, 7.81723896e+00, 8.59867503e+00,\n",
       "        9.38011110e+00, 1.01615472e+01, 1.09429832e+01, 1.17244193e+01,\n",
       "        1.25058554e+01, 1.32872914e+01, 1.40687275e+01, 1.48501636e+01,\n",
       "        1.56315997e+01, 1.64130357e+01, 1.71944718e+01, 1.79759079e+01,\n",
       "        1.87573439e+01, 1.95387800e+01, 2.03202161e+01, 2.11016521e+01,\n",
       "        2.18830882e+01, 2.26645243e+01, 2.34459603e+01, 2.42273964e+01,\n",
       "        2.50088325e+01, 2.57902686e+01, 2.65717046e+01, 2.73531407e+01,\n",
       "        2.81345768e+01, 2.89160128e+01, 2.96974489e+01, 3.04788850e+01,\n",
       "        3.12603210e+01, 3.20417571e+01, 3.28231932e+01, 3.36046292e+01,\n",
       "        3.43860653e+01, 3.51675014e+01, 3.59489374e+01, 3.67303735e+01,\n",
       "        3.75118096e+01, 3.82932457e+01, 3.90746817e+01, 3.98561178e+01,\n",
       "        4.06375539e+01, 4.14189899e+01, 4.22004260e+01, 4.29818621e+01,\n",
       "        4.37632981e+01, 4.45447342e+01, 4.53261703e+01, 4.61076063e+01,\n",
       "        4.68890424e+01, 4.76704785e+01, 4.84519146e+01, 4.92333506e+01,\n",
       "        5.00147867e+01, 5.07962228e+01, 5.15776588e+01, 5.23590949e+01,\n",
       "        5.31405310e+01, 5.39219670e+01, 5.47034031e+01, 5.54848392e+01,\n",
       "        5.62662752e+01, 5.70477113e+01, 5.78291474e+01, 5.86105834e+01,\n",
       "        5.93920195e+01, 6.01734556e+01, 6.09548917e+01, 6.17363277e+01,\n",
       "        6.25177638e+01, 6.32991999e+01, 6.40806359e+01, 6.48620720e+01,\n",
       "        6.56435081e+01, 6.64249441e+01, 6.72063802e+01, 6.79878163e+01,\n",
       "        6.87692523e+01, 6.95506884e+01, 7.03321245e+01, 7.11135606e+01,\n",
       "        7.18949966e+01, 7.26764327e+01, 7.34578688e+01, 7.42393048e+01,\n",
       "        7.50207409e+01, 7.58021770e+01, 7.65836130e+01, 7.73650491e+01,\n",
       "        7.81464852e+01, 7.89279212e+01, 7.97093573e+01, 8.04907934e+01,\n",
       "        8.12722294e+01, 8.20536655e+01, 8.28351016e+01, 8.36165377e+01,\n",
       "        8.43979737e+01, 8.51794098e+01, 8.59608459e+01, 8.67422819e+01,\n",
       "        8.75237180e+01, 8.83051541e+01, 8.90865901e+01, 8.98680262e+01,\n",
       "        9.06494623e+01, 9.14308983e+01, 9.22123344e+01, 9.29937705e+01,\n",
       "        9.37752066e+01, 9.45566426e+01, 9.53380787e+01, 9.61195148e+01,\n",
       "        9.69009508e+01, 9.76823869e+01, 9.84638230e+01, 9.92452590e+01,\n",
       "        1.00026695e+02, 1.00808131e+02, 1.01589567e+02, 1.02371003e+02,\n",
       "        1.03152439e+02, 1.03933875e+02, 1.04715312e+02, 1.05496748e+02,\n",
       "        1.06278184e+02, 1.07059620e+02, 1.07841056e+02, 1.08622492e+02,\n",
       "        1.09403928e+02, 1.10185364e+02, 1.10966800e+02, 1.11748236e+02,\n",
       "        1.12529672e+02, 1.13311108e+02, 1.14092544e+02, 1.14873980e+02,\n",
       "        1.15655416e+02, 1.16436853e+02, 1.17218289e+02, 1.17999725e+02,\n",
       "        1.18781161e+02, 1.19562597e+02, 1.20344033e+02, 1.21125469e+02,\n",
       "        1.21906905e+02, 1.22688341e+02, 1.23469777e+02, 1.24251213e+02,\n",
       "        1.25032649e+02, 1.25814085e+02, 1.26595521e+02, 1.27376958e+02,\n",
       "        1.28158394e+02, 1.28939830e+02, 1.29721266e+02, 1.30502702e+02,\n",
       "        1.31284138e+02, 1.32065574e+02, 1.32847010e+02, 1.33628446e+02,\n",
       "        1.34409882e+02, 1.35191318e+02, 1.35972754e+02, 1.36754190e+02,\n",
       "        1.37535626e+02, 1.38317062e+02, 1.39098499e+02, 1.39879935e+02,\n",
       "        1.40661371e+02, 1.41442807e+02, 1.42224243e+02, 1.43005679e+02,\n",
       "        1.43787115e+02, 1.44568551e+02, 1.45349987e+02, 1.46131423e+02,\n",
       "        1.46912859e+02, 1.47694295e+02, 1.48475731e+02, 1.49257167e+02,\n",
       "        1.50038604e+02, 1.50820040e+02, 1.51601476e+02, 1.52382912e+02,\n",
       "        1.53164348e+02, 1.53945784e+02, 1.54727220e+02, 1.55508656e+02,\n",
       "        1.56290092e+02]),\n",
       " [<matplotlib.patches.Polygon at 0x1f409be1e80>])"
      ]
     },
     "execution_count": 20,
     "metadata": {},
     "output_type": "execute_result"
    },
    {
     "data": {
      "image/png": "[encoded data removed]",
      "text/plain": [
       "<Figure size 432x288 with 1 Axes>"
      ]
     },
     "metadata": {
      "needs_background": "light"
     },
     "output_type": "display_data"
    }
   ],
   "source": [
    "plt.hist(fstats_tot['Mean Deff1'], histtype='stepfilled', bins=200)"
   ]
  },
  {
   "cell_type": "code",
   "execution_count": 21,
   "id": "6cdb200c",
   "metadata": {},
   "outputs": [],
   "source": [
    "p14_df = fstats_tot[fstats_tot['age'] == 'P14']\n",
    "p35_df = fstats_tot[fstats_tot['age'] == 'P35']\n",
    "p70_df = fstats_tot[fstats_tot['age'] == 'P70']"
   ]
  },
  {
   "cell_type": "code",
   "execution_count": 22,
   "id": "f253e379",
   "metadata": {},
   "outputs": [
    {
     "data": {
      "text/plain": [
       "<matplotlib.legend.Legend at 0x1f4094843d0>"
      ]
     },
     "execution_count": 22,
     "metadata": {},
     "output_type": "execute_result"
    },
    {
     "data": {
      "image/png": "[encoded data removed]",
      "text/plain": [
       "<Figure size 432x288 with 1 Axes>"
      ]
     },
     "metadata": {
      "needs_background": "light"
     },
     "output_type": "display_data"
    }
   ],
   "source": [
    "plt.hist([p14_df['Mean Deff1'], p35_df['Mean Deff1'], p70_df['Mean Deff1']], bins=200, label=['P14', 'P35', 'P70'])\n",
    "plt.legend()"
   ]
  },
  {
   "cell_type": "code",
   "execution_count": 23,
   "id": "89160fc2",
   "metadata": {},
   "outputs": [
    {
     "data": {
      "text/plain": [
       "<AxesSubplot:xlabel='age', ylabel='Mean Deff1'>"
      ]
     },
     "execution_count": 23,
     "metadata": {},
     "output_type": "execute_result"
    },
    {
     "data": {
      "image/png": "[encoded data removed]",
      "text/plain": [
       "<Figure size 432x288 with 1 Axes>"
      ]
     },
     "metadata": {
      "needs_background": "light"
     },
     "output_type": "display_data"
    }
   ],
   "source": [
    "sns.violinplot(y='Mean Deff1', x='age', data=fstats_tot)"
   ]
  },
  {
   "cell_type": "code",
   "execution_count": 24,
   "id": "f5fd412e",
   "metadata": {},
   "outputs": [],
   "source": [
    "labels = np.array(ecm['age'])\n",
    "features_df = ecm.drop(['age'], axis=1)"
   ]
  },
  {
   "cell_type": "code",
   "execution_count": 25,
   "id": "8eb205bf",
   "metadata": {},
   "outputs": [],
   "source": [
    "#the feature data needs to be scaled prior to PCA. we can do this using scikit-learn's built in scaling functions"
   ]
  },
  {
   "cell_type": "code",
   "execution_count": 26,
   "id": "8af8feda",
   "metadata": {},
   "outputs": [],
   "source": [
    "scaler = StandardScaler()\n",
    "scaled_df = scaler.fit_transform(features_df)\n",
    "scaled_df = pd.DataFrame(scaled_df, columns = feature_list)"
   ]
  },
  {
   "cell_type": "code",
   "execution_count": 27,
   "id": "cc8eada8",
   "metadata": {},
   "outputs": [
    {
     "name": "stdout",
     "output_type": "stream",
     "text": [
      "0.856896708419755\n"
     ]
    }
   ],
   "source": [
    "pca = PCA(n_components=6).fit(scaled_df)\n",
    "print(pca.explained_variance_ratio_.sum())"
   ]
  },
  {
   "cell_type": "code",
   "execution_count": 28,
   "id": "55f3dc1e",
   "metadata": {},
   "outputs": [
    {
     "data": {
      "text/plain": [
       "Text(0, 0.5, 'Cumulative Explained Variance')"
      ]
     },
     "execution_count": 28,
     "metadata": {},
     "output_type": "execute_result"
    },
    {
     "data": {
      "image/png": "[encoded data removed]",
      "text/plain": [
       "<Figure size 432x288 with 1 Axes>"
      ]
     },
     "metadata": {
      "needs_background": "light"
     },
     "output_type": "display_data"
    }
   ],
   "source": [
    "plt.plot(np.cumsum(pca.explained_variance_ratio_))\n",
    "plt.xlabel('Number of Components')\n",
    "plt.ylabel('Cumulative Explained Variance')"
   ]
  },
  {
   "cell_type": "code",
   "execution_count": 29,
   "id": "400df387",
   "metadata": {},
   "outputs": [],
   "source": [
    "pca_embeddings = pca.transform(scaled_df)\n",
    "pca_embeddings_df = pd.DataFrame(pca_embeddings[:, :3], columns=['Component 1', 'Component 2', 'Component 3'])\n",
    "pca_embeddings_df['target'] = labels"
   ]
  },
  {
   "cell_type": "code",
   "execution_count": 30,
   "id": "7283d9f6",
   "metadata": {},
   "outputs": [
    {
     "data": {
      "text/html": [
       "<div>\n",
       "<style scoped>\n",
       "    .dataframe tbody tr th:only-of-type {\n",
       "        vertical-align: middle;\n",
       "    }\n",
       "\n",
       "    .dataframe tbody tr th {\n",
       "        vertical-align: top;\n",
       "    }\n",
       "\n",
       "    .dataframe thead th {\n",
       "        text-align: right;\n",
       "    }\n",
       "</style>\n",
       "<table border=\"1\" class=\"dataframe\">\n",
       "  <thead>\n",
       "    <tr style=\"text-align: right;\">\n",
       "      <th></th>\n",
       "      <th>Component 1</th>\n",
       "      <th>Component 2</th>\n",
       "      <th>Component 3</th>\n",
       "      <th>target</th>\n",
       "    </tr>\n",
       "  </thead>\n",
       "  <tbody>\n",
       "    <tr>\n",
       "      <th>0</th>\n",
       "      <td>-0.767058</td>\n",
       "      <td>-3.136229</td>\n",
       "      <td>-1.062389</td>\n",
       "      <td>P14</td>\n",
       "    </tr>\n",
       "    <tr>\n",
       "      <th>1</th>\n",
       "      <td>6.277010</td>\n",
       "      <td>-2.197050</td>\n",
       "      <td>1.674864</td>\n",
       "      <td>P14</td>\n",
       "    </tr>\n",
       "    <tr>\n",
       "      <th>2</th>\n",
       "      <td>4.396212</td>\n",
       "      <td>-2.718438</td>\n",
       "      <td>-0.384827</td>\n",
       "      <td>P14</td>\n",
       "    </tr>\n",
       "    <tr>\n",
       "      <th>3</th>\n",
       "      <td>4.396212</td>\n",
       "      <td>-2.718438</td>\n",
       "      <td>-0.384827</td>\n",
       "      <td>P14</td>\n",
       "    </tr>\n",
       "    <tr>\n",
       "      <th>4</th>\n",
       "      <td>0.238700</td>\n",
       "      <td>-4.387037</td>\n",
       "      <td>-1.303008</td>\n",
       "      <td>P14</td>\n",
       "    </tr>\n",
       "  </tbody>\n",
       "</table>\n",
       "</div>"
      ],
      "text/plain": [
       "   Component 1  Component 2  Component 3 target\n",
       "0    -0.767058    -3.136229    -1.062389    P14\n",
       "1     6.277010    -2.197050     1.674864    P14\n",
       "2     4.396212    -2.718438    -0.384827    P14\n",
       "3     4.396212    -2.718438    -0.384827    P14\n",
       "4     0.238700    -4.387037    -1.303008    P14"
      ]
     },
     "execution_count": 30,
     "metadata": {},
     "output_type": "execute_result"
    }
   ],
   "source": [
    "pca_embeddings_df.head()"
   ]
  },
  {
   "cell_type": "code",
   "execution_count": 35,
   "id": "1c65cfa4",
   "metadata": {},
   "outputs": [
    {
     "name": "stdout",
     "output_type": "stream",
     "text": [
      "P14\n",
      "P35\n",
      "P70\n"
     ]
    },
    {
     "data": {
      "text/plain": [
       "(-15.0, 15.0)"
      ]
     },
     "execution_count": 35,
     "metadata": {},
     "output_type": "execute_result"
    },
    {
     "data": {
      "image/png": "[encoded data removed]",
      "text/plain": [
       "<Figure size 864x504 with 1 Axes>"
      ]
     },
     "metadata": {
      "needs_background": "light"
     },
     "output_type": "display_data"
    }
   ],
   "source": [
    "fig = plt.figure(figsize=(12, 7))\n",
    "for unique_class in pca_embeddings_df['target'].unique():\n",
    "    print(unique_class)\n",
    "    df = pca_embeddings_df[pca_embeddings_df['target'] == unique_class].sample(500)\n",
    "    x = df['Component 1']\n",
    "    y = df['Component 2']\n",
    "    plt.scatter(x, y, alpha=0.5, s=4, label=unique_class)\n",
    "plt.legend()\n",
    "plt.xlabel('PC1')\n",
    "plt.ylabel('PC2')\n",
    "plt.xlim([-15, 15])\n",
    "plt.ylim([-15, 15])"
   ]
  },
  {
   "cell_type": "code",
   "execution_count": 37,
   "id": "5ed0925d",
   "metadata": {},
   "outputs": [
    {
     "data": {
      "image/png": "[encoded data removed]",
      "text/plain": [
       "<Figure size 432x288 with 1 Axes>"
      ]
     },
     "metadata": {
      "needs_background": "light"
     },
     "output_type": "display_data"
    }
   ],
   "source": [
    "def bi_plot(score, coeff, labels=None, targets=None, num_points='all'):\n",
    "    xs = score[:, 0]\n",
    "    ys = score[:, 1]\n",
    "    n = coeff.shape[0]\n",
    "    scalex = 1.0/(xs.max() - xs.min())\n",
    "    scaley = 1.0/(ys.max() - ys.min())\n",
    "    for uclass in np.unique(targets):\n",
    "        x = (xs[targets==uclass])*scalex\n",
    "        y = (ys[targets==uclass])*scaley\n",
    "        if num_points == 'all':\n",
    "            plt.scatter(x, y, alpha=0.5, s=1)\n",
    "        else:\n",
    "            inds = np.random.randint(0, len(x), num_points)\n",
    "            plt.scatter(x[inds], y[inds], alpha=0.5, s=1)\n",
    "    for i in range(n//2, n):\n",
    "        plt.arrow(0, 0, coeff[i, 1], color='r', alpha=0.5)\n",
    "        if labels is None:\n",
    "            plt.text(coeff[i, 0]*1.15, \"Var\"+str(i+1), color='k', ha='center', va='center')\n",
    "        else:\n",
    "            plt.text(coeff[i, 0], labels[i], color='k', ha='center', va='center')\n",
    "plt.xlabel('PC{}'.format(1))\n",
    "plt.ylabel('PC{}'.format(2))\n",
    "plt.grid()\n"
   ]
  },
  {
   "cell_type": "code",
   "execution_count": 40,
   "id": "397c46a5",
   "metadata": {},
   "outputs": [
    {
     "ename": "TypeError",
     "evalue": "arrow() missing 1 required positional argument: 'dy'",
     "output_type": "error",
     "traceback": [
      "\u001b[1;31m---------------------------------------------------------------------------\u001b[0m",
      "\u001b[1;31mTypeError\u001b[0m                                 Traceback (most recent call last)",
      "Input \u001b[1;32mIn [40]\u001b[0m, in \u001b[0;36m<cell line: 2>\u001b[1;34m()\u001b[0m\n\u001b[0;32m      1\u001b[0m fig \u001b[38;5;241m=\u001b[39m plt\u001b[38;5;241m.\u001b[39mfigure(figsize\u001b[38;5;241m=\u001b[39m(\u001b[38;5;241m12\u001b[39m,\u001b[38;5;241m8\u001b[39m))\n\u001b[1;32m----> 2\u001b[0m \u001b[43mbi_plot\u001b[49m\u001b[43m(\u001b[49m\u001b[43mpca_embeddings\u001b[49m\u001b[43m[\u001b[49m\u001b[43m:\u001b[49m\u001b[43m,\u001b[49m\u001b[38;5;241;43m0\u001b[39;49m\u001b[43m:\u001b[49m\u001b[38;5;241;43m2\u001b[39;49m\u001b[43m]\u001b[49m\u001b[43m,\u001b[49m\u001b[43m \u001b[49m\u001b[43mnp\u001b[49m\u001b[38;5;241;43m.\u001b[39;49m\u001b[43mtranspose\u001b[49m\u001b[43m(\u001b[49m\u001b[43mpca\u001b[49m\u001b[38;5;241;43m.\u001b[39;49m\u001b[43mcomponents_\u001b[49m\u001b[43m[\u001b[49m\u001b[38;5;241;43m0\u001b[39;49m\u001b[43m:\u001b[49m\u001b[38;5;241;43m2\u001b[39;49m\u001b[43m,\u001b[49m\u001b[43m:\u001b[49m\u001b[43m]\u001b[49m\u001b[43m)\u001b[49m\u001b[43m,\u001b[49m\u001b[43m \u001b[49m\u001b[43mlabels\u001b[49m\u001b[38;5;241;43m=\u001b[39;49m\u001b[43mfeature_list\u001b[49m\u001b[43m,\u001b[49m\u001b[43m \u001b[49m\u001b[43mtargets\u001b[49m\u001b[38;5;241;43m=\u001b[39;49m\u001b[43mlabels\u001b[49m\u001b[43m,\u001b[49m\u001b[43m \u001b[49m\u001b[43mnum_points\u001b[49m\u001b[38;5;241;43m=\u001b[39;49m\u001b[38;5;241;43m100\u001b[39;49m\u001b[43m)\u001b[49m\n\u001b[0;32m      3\u001b[0m plt\u001b[38;5;241m.\u001b[39mtitle(\u001b[38;5;124m'\u001b[39m\u001b[38;5;124mBi-plot of First and Second Principal Components\u001b[39m\u001b[38;5;124m'\u001b[39m)\n",
      "Input \u001b[1;32mIn [37]\u001b[0m, in \u001b[0;36mbi_plot\u001b[1;34m(score, coeff, labels, targets, num_points)\u001b[0m\n\u001b[0;32m     14\u001b[0m         plt\u001b[38;5;241m.\u001b[39mscatter(x[inds], y[inds], alpha\u001b[38;5;241m=\u001b[39m\u001b[38;5;241m0.5\u001b[39m, s\u001b[38;5;241m=\u001b[39m\u001b[38;5;241m1\u001b[39m)\n\u001b[0;32m     15\u001b[0m \u001b[38;5;28;01mfor\u001b[39;00m i \u001b[38;5;129;01min\u001b[39;00m \u001b[38;5;28mrange\u001b[39m(n\u001b[38;5;241m/\u001b[39m\u001b[38;5;241m/\u001b[39m\u001b[38;5;241m2\u001b[39m, n):\n\u001b[1;32m---> 16\u001b[0m     \u001b[43mplt\u001b[49m\u001b[38;5;241;43m.\u001b[39;49m\u001b[43marrow\u001b[49m\u001b[43m(\u001b[49m\u001b[38;5;241;43m0\u001b[39;49m\u001b[43m,\u001b[49m\u001b[43m \u001b[49m\u001b[38;5;241;43m0\u001b[39;49m\u001b[43m,\u001b[49m\u001b[43m \u001b[49m\u001b[43mcoeff\u001b[49m\u001b[43m[\u001b[49m\u001b[43mi\u001b[49m\u001b[43m,\u001b[49m\u001b[43m \u001b[49m\u001b[38;5;241;43m1\u001b[39;49m\u001b[43m]\u001b[49m\u001b[43m,\u001b[49m\u001b[43m \u001b[49m\u001b[43mcolor\u001b[49m\u001b[38;5;241;43m=\u001b[39;49m\u001b[38;5;124;43m'\u001b[39;49m\u001b[38;5;124;43mr\u001b[39;49m\u001b[38;5;124;43m'\u001b[39;49m\u001b[43m,\u001b[49m\u001b[43m \u001b[49m\u001b[43malpha\u001b[49m\u001b[38;5;241;43m=\u001b[39;49m\u001b[38;5;241;43m0.5\u001b[39;49m\u001b[43m)\u001b[49m\n\u001b[0;32m     17\u001b[0m     \u001b[38;5;28;01mif\u001b[39;00m labels \u001b[38;5;129;01mis\u001b[39;00m \u001b[38;5;28;01mNone\u001b[39;00m:\n\u001b[0;32m     18\u001b[0m         plt\u001b[38;5;241m.\u001b[39mtext(coeff[i, \u001b[38;5;241m0\u001b[39m]\u001b[38;5;241m*\u001b[39m\u001b[38;5;241m1.15\u001b[39m, \u001b[38;5;124m\"\u001b[39m\u001b[38;5;124mVar\u001b[39m\u001b[38;5;124m\"\u001b[39m\u001b[38;5;241m+\u001b[39m\u001b[38;5;28mstr\u001b[39m(i\u001b[38;5;241m+\u001b[39m\u001b[38;5;241m1\u001b[39m), color\u001b[38;5;241m=\u001b[39m\u001b[38;5;124m'\u001b[39m\u001b[38;5;124mk\u001b[39m\u001b[38;5;124m'\u001b[39m, ha\u001b[38;5;241m=\u001b[39m\u001b[38;5;124m'\u001b[39m\u001b[38;5;124mcenter\u001b[39m\u001b[38;5;124m'\u001b[39m, va\u001b[38;5;241m=\u001b[39m\u001b[38;5;124m'\u001b[39m\u001b[38;5;124mcenter\u001b[39m\u001b[38;5;124m'\u001b[39m)\n",
      "\u001b[1;31mTypeError\u001b[0m: arrow() missing 1 required positional argument: 'dy'"
     ]
    },
    {
     "data": {
      "image/png": "[encoded data removed]",
      "text/plain": [
       "<Figure size 864x576 with 1 Axes>"
      ]
     },
     "metadata": {
      "needs_background": "light"
     },
     "output_type": "display_data"
    }
   ],
   "source": [
    "fig = plt.figure(figsize=(12,8))\n",
    "bi_plot(pca_embeddings[:,0:2], np.transpose(pca.components_[0:2,:]), labels=feature_list, targets=labels, num_points=100)\n",
    "plt.title('Bi-plot of First and Second Principal Components')"
   ]
  },
  {
   "cell_type": "code",
   "execution_count": null,
   "id": "e873c0a2",
   "metadata": {},
   "outputs": [],
   "source": []
  },
  {
   "cell_type": "code",
   "execution_count": null,
   "id": "c50c2c97",
   "metadata": {},
   "outputs": [],
   "source": []
  }
 ],
 "metadata": {
  "kernelspec": {
   "display_name": "Python 3 (ipykernel)",
   "language": "python",
   "name": "python3"
  },
  "language_info": {
   "codemirror_mode": {
    "name": "ipython",
    "version": 3
   },
   "file_extension": ".py",
   "mimetype": "text/x-python",
   "name": "python",
   "nbconvert_exporter": "python",
   "pygments_lexer": "ipython3",
   "version": "3.9.12"
  }
 },
 "nbformat": 4,
 "nbformat_minor": 5
}
